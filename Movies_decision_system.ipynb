{
  "nbformat": 4,
  "nbformat_minor": 0,
  "metadata": {
    "colab": {
      "name": "Movies -  decision system.ipynb",
      "provenance": [],
      "authorship_tag": "ABX9TyPoaT6Nzf+qM8DsYfPxr/iV",
      "include_colab_link": true
    },
    "kernelspec": {
      "name": "python3",
      "display_name": "Python 3"
    },
    "language_info": {
      "name": "python"
    }
  },
  "cells": [
    {
      "cell_type": "markdown",
      "metadata": {
        "id": "view-in-github",
        "colab_type": "text"
      },
      "source": [
        "<a href=\"https://colab.research.google.com/github/itrail/MovieRecommendationSystem/blob/main/Movies_decision_system.ipynb\" target=\"_parent\"><img src=\"https://colab.research.google.com/assets/colab-badge.svg\" alt=\"Open In Colab\"/></a>"
      ]
    },
    {
      "cell_type": "code",
      "metadata": {
        "id": "VoyAg2j_WxVC"
      },
      "source": [
        "import json\n",
        "\n",
        "with open('movies.json', 'r') as f:\n",
        "  json_object = json.load(f)\n",
        "  f.close()"
      ],
      "execution_count": null,
      "outputs": []
    },
    {
      "cell_type": "code",
      "metadata": {
        "id": "s6ilkyzLjpjC"
      },
      "source": [
        "#importing all genres from json file\n",
        "genres = []\n",
        "i = 0\n",
        "for item in json_object:\n",
        "  i= i + 1\n",
        "  try:\n",
        "    genres.append(item['genres'][0].lower())\n",
        "    genres = list(dict.fromkeys(genres))\n",
        "    print(item['genres'][0])\n",
        "  except:\n",
        "    continue"
      ],
      "execution_count": null,
      "outputs": []
    },
    {
      "cell_type": "code",
      "metadata": {
        "colab": {
          "base_uri": "https://localhost:8080/"
        },
        "id": "HN-S3Qr-daV1",
        "outputId": "e9e3779e-f871-4000-f117-f6310f7c5a33"
      },
      "source": [
        "genres"
      ],
      "execution_count": null,
      "outputs": [
        {
          "output_type": "execute_result",
          "data": {
            "text/plain": [
              "['action',\n",
              " 'thriller',\n",
              " 'animation',\n",
              " 'documentary',\n",
              " 'adventure',\n",
              " 'fantasy',\n",
              " 'mystery',\n",
              " 'horror',\n",
              " 'comedy',\n",
              " 'music',\n",
              " 'family',\n",
              " 'crime',\n",
              " 'drama',\n",
              " 'romance',\n",
              " 'science fiction',\n",
              " 'war',\n",
              " 'tv movie',\n",
              " 'western',\n",
              " 'history']"
            ]
          },
          "metadata": {
            "tags": []
          },
          "execution_count": 3
        }
      ]
    },
    {
      "cell_type": "code",
      "metadata": {
        "colab": {
          "base_uri": "https://localhost:8080/"
        },
        "id": "mI5mryVElenU",
        "outputId": "738fa836-7aef-4766-9a5e-4d82a78da3de"
      },
      "source": [
        "len(genres)"
      ],
      "execution_count": null,
      "outputs": [
        {
          "output_type": "execute_result",
          "data": {
            "text/plain": [
              "19"
            ]
          },
          "metadata": {
            "tags": []
          },
          "execution_count": 4
        }
      ]
    },
    {
      "cell_type": "code",
      "metadata": {
        "id": "lEUW4CiuljwP"
      },
      "source": [
        "#ustalenie wag poczatkowych\n",
        "import random\n",
        "\n",
        "weights_of_genres = [50 for i in range(len(genres))]#domyslnie wagi wynoszą 50%\n",
        "counters = [0 for i in range(len(genres))]"
      ],
      "execution_count": null,
      "outputs": []
    },
    {
      "cell_type": "code",
      "metadata": {
        "colab": {
          "base_uri": "https://localhost:8080/"
        },
        "id": "8pOcRJaNnDjV",
        "outputId": "cb227e62-e614-41ba-b7e6-b8af9f6865a8"
      },
      "source": [
        "#ocenianie - zmiana wag\n",
        "# zmieniamy wagi ile chcemy\n",
        "\n",
        "import string\n",
        "\n",
        "try:\n",
        "  film_to_rate = random.choices(json_object)#random movie. On the website, the user selects the movie he saw and its genre is determined.\n",
        "  genre_to_rate = film_to_rate[0]['genres'][0].lower()\n",
        "  print(\"Oceń film: \" + film_to_rate[0]['title'])\n",
        "  print(\"Gatunek: \" + film_to_rate[0]['genres'][0])\n",
        "\n",
        "  index_to_rate = genres.index(genre_to_rate)\n",
        "  flag=True\n",
        "  while flag == True:\n",
        "    rating = int(input('Podaj ocenę: [0-10] '))#on the webpage rating will be implemented as 'stars choosing'\n",
        "    if rating in range(0, 11): #0-10\n",
        "      flag = False\n",
        "  if counters[index_to_rate] == 0:\n",
        "    weights_of_genres[index_to_rate] = rating*10\n",
        "  else:\n",
        "    weights_of_genres[index_to_rate] = ((counters[index_to_rate]-1) * weights_of_genres[index_to_rate] + (rating*10))/counters[index_to_rate]\n",
        "  counters[index_to_rate] += 1\n",
        "except:\n",
        "  print(\"Movie without genre\")"
      ],
      "execution_count": null,
      "outputs": [
        {
          "output_type": "stream",
          "text": [
            "Oceń film: Kamen Rider Heisei Generations FOREVER\n",
            "Gatunek: Action\n",
            "Podaj ocenę: [0-10] 3\n"
          ],
          "name": "stdout"
        }
      ]
    },
    {
      "cell_type": "code",
      "metadata": {
        "colab": {
          "base_uri": "https://localhost:8080/"
        },
        "id": "mcOuKc7m5ffj",
        "outputId": "9de184c9-f023-4097-e0fe-5cd8e8f2fd7b"
      },
      "source": [
        "#showing weights\n",
        "\n",
        "print(weights_of_genres)"
      ],
      "execution_count": null,
      "outputs": [
        {
          "output_type": "stream",
          "text": [
            "[30, 50, 30, 50, 50, 50, 50, 50, 70, 50, 50, 50, 50, 50, 50, 50, 50, 50, 50]\n"
          ],
          "name": "stdout"
        }
      ]
    },
    {
      "cell_type": "code",
      "metadata": {
        "colab": {
          "base_uri": "https://localhost:8080/"
        },
        "id": "FF1ncibnCz4i",
        "outputId": "70872159-85b6-4ac8-feaa-4c29ea75b502"
      },
      "source": [
        "counters"
      ],
      "execution_count": null,
      "outputs": [
        {
          "output_type": "execute_result",
          "data": {
            "text/plain": [
              "[1, 0, 1, 0, 0, 0, 0, 0, 1, 0, 0, 0, 0, 0, 0, 0, 0, 0, 0]"
            ]
          },
          "metadata": {
            "tags": []
          },
          "execution_count": 20
        }
      ]
    },
    {
      "cell_type": "code",
      "metadata": {
        "colab": {
          "base_uri": "https://localhost:8080/"
        },
        "id": "S7DfwBU9nsg7",
        "outputId": "4b8de794-f0ab-402d-df80-8cb9091328f4"
      },
      "source": [
        "#drawing genres of movies\n",
        "r = random.choices(genres, weights_of_genres, k=3)#k is number of movies to draw\n",
        "for elem in r:\n",
        "  print(elem)"
      ],
      "execution_count": null,
      "outputs": [
        {
          "output_type": "stream",
          "text": [
            "thriller\n",
            "crime\n",
            "romance\n"
          ],
          "name": "stdout"
        }
      ]
    },
    {
      "cell_type": "code",
      "metadata": {
        "colab": {
          "base_uri": "https://localhost:8080/"
        },
        "id": "elcW8Sponu7h",
        "outputId": "e73b9c0f-4f94-4df4-f2fb-2779e4ec6bd1"
      },
      "source": [
        "#and after selecting genres we selecting pseudo-randomly movies from database according to the genre\n",
        "for elem in r:\n",
        "  temp = []\n",
        "  for item in json_object:\n",
        "    try:\n",
        "      if item['genres'][0].lower() == elem:\n",
        "        temp.append(item)\n",
        "    except:\n",
        "      continue\n",
        "  irand = random.randrange(0, len(temp))\n",
        "  print(temp[irand]['title'])\n",
        "  "
      ],
      "execution_count": null,
      "outputs": [
        {
          "output_type": "stream",
          "text": [
            "Stonehearst Asylum\n",
            "A Walk Among the Tombstones\n",
            "Don Jon\n"
          ],
          "name": "stdout"
        }
      ]
    }
  ]
}
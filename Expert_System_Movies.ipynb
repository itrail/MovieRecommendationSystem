{
  "nbformat": 4,
  "nbformat_minor": 0,
  "metadata": {
    "colab": {
      "name": "Expert System - Movies.ipynb",
      "provenance": [],
      "collapsed_sections": [],
      "authorship_tag": "ABX9TyNcCoJbXj2DIxv2WeHbYtLs",
      "include_colab_link": true
    },
    "kernelspec": {
      "name": "python3",
      "display_name": "Python 3"
    },
    "language_info": {
      "name": "python"
    }
  },
  "cells": [
    {
      "cell_type": "markdown",
      "metadata": {
        "id": "view-in-github",
        "colab_type": "text"
      },
      "source": [
        "<a href=\"https://colab.research.google.com/github/itrail/MovieRecommendationSystem/blob/main/Expert_System_Movies.ipynb\" target=\"_parent\"><img src=\"https://colab.research.google.com/assets/colab-badge.svg\" alt=\"Open In Colab\"/></a>"
      ]
    },
    {
      "cell_type": "code",
      "metadata": {
        "colab": {
          "base_uri": "https://localhost:8080/"
        },
        "id": "fpgDUCOtM1SK",
        "outputId": "8869f5c6-e35f-4329-c9da-06d9e95139a4"
      },
      "source": [
        "!pip install experta"
      ],
      "execution_count": null,
      "outputs": [
        {
          "output_type": "stream",
          "text": [
            "Collecting experta\n",
            "  Downloading https://files.pythonhosted.org/packages/03/5d/c06fad9dadbec34d95f548bca648ec0de2afd6f8eb2247194150ad38ee8f/experta-1.9.4-py3-none-any.whl\n",
            "Collecting frozendict==1.2\n",
            "  Downloading https://files.pythonhosted.org/packages/4e/55/a12ded2c426a4d2bee73f88304c9c08ebbdbadb82569ebdd6a0c007cfd08/frozendict-1.2.tar.gz\n",
            "Collecting schema==0.6.7\n",
            "  Downloading https://files.pythonhosted.org/packages/5d/42/32c059aa876eb16521a292e634d18f25408b2441862ff823f59af273d720/schema-0.6.7-py2.py3-none-any.whl\n",
            "Building wheels for collected packages: frozendict\n",
            "  Building wheel for frozendict (setup.py) ... \u001b[?25l\u001b[?25hdone\n",
            "  Created wheel for frozendict: filename=frozendict-1.2-cp37-none-any.whl size=3150 sha256=958bcdfc70e2cb9b33605103a378412acd92fd661d88cf6e117562cf28be314d\n",
            "  Stored in directory: /root/.cache/pip/wheels/6c/6c/e9/534386165bd12cf1885582c75eb6d0ffcb321b65c23fe0f834\n",
            "Successfully built frozendict\n",
            "Installing collected packages: frozendict, schema, experta\n",
            "Successfully installed experta-1.9.4 frozendict-1.2 schema-0.6.7\n"
          ],
          "name": "stdout"
        }
      ]
    },
    {
      "cell_type": "code",
      "metadata": {
        "id": "m15exCseIRDd"
      },
      "source": [
        "from random import choices\n",
        "from experta import *"
      ],
      "execution_count": null,
      "outputs": []
    },
    {
      "cell_type": "code",
      "metadata": {
        "id": "eSBpfyj8JSme"
      },
      "source": [
        "import json\n",
        "\n",
        "with open('movies.json', 'r') as f:\n",
        "  json_object = json.load(f)\n",
        "  f.close()"
      ],
      "execution_count": null,
      "outputs": []
    },
    {
      "cell_type": "code",
      "metadata": {
        "id": "IafBdYc-JTW2"
      },
      "source": [
        "#importing all genres from json file\n",
        "genres = []\n",
        "i = 0\n",
        "for item in json_object:\n",
        "  i= i + 1\n",
        "  try:\n",
        "    genres.append(item['genres'][0].lower())\n",
        "    genres = list(dict.fromkeys(genres))\n",
        "    print(item['genres'][0])\n",
        "  except:\n",
        "    continue"
      ],
      "execution_count": null,
      "outputs": []
    },
    {
      "cell_type": "code",
      "metadata": {
        "colab": {
          "base_uri": "https://localhost:8080/"
        },
        "id": "FnEdwgTnJV65",
        "outputId": "e2dddf82-c3a2-4dd0-c406-ded650c5135a"
      },
      "source": [
        "genres"
      ],
      "execution_count": null,
      "outputs": [
        {
          "output_type": "execute_result",
          "data": {
            "text/plain": [
              "['action',\n",
              " 'thriller',\n",
              " 'animation',\n",
              " 'documentary',\n",
              " 'adventure',\n",
              " 'fantasy',\n",
              " 'mystery',\n",
              " 'horror',\n",
              " 'comedy',\n",
              " 'music',\n",
              " 'family',\n",
              " 'crime',\n",
              " 'drama',\n",
              " 'romance',\n",
              " 'science fiction',\n",
              " 'war',\n",
              " 'tv movie',\n",
              " 'western',\n",
              " 'history']"
            ]
          },
          "metadata": {
            "tags": []
          },
          "execution_count": 5
        }
      ]
    },
    {
      "cell_type": "code",
      "metadata": {
        "id": "AbhRugEBI9jI"
      },
      "source": [
        "import random\n",
        "\n",
        "class Movies_Ratings(Fact):\n",
        "    \"\"\"Info about the ratings of movies.\"\"\"\n",
        "    pass\n",
        "    \n",
        "    #ustalenie wag poczatkowych\n",
        "    def __init__(self):\n",
        "      self.weights_of_genres = [50 for i in range(len(genres))]#domyslnie wagi wynoszą 50%\n",
        "      self.counters = [0 for i in range(len(genres))]\n",
        "      self.watched_movies = []\n",
        "\n",
        "    #drukowanie wag\n",
        "    def print_weights(self):\n",
        "      print(self.weights_of_genres)\n",
        "\n",
        "    def print_counters(self):\n",
        "      print(self.counters)\n",
        "\n",
        "    def rate_movie(self, film_to_rate):\n",
        "      try:\n",
        "        genre_to_rate = film_to_rate[0]['genres'][0].lower()\n",
        "        print(\"Oceń film: \" + film_to_rate[0]['title'])\n",
        "        print(\"Gatunek: \" + film_to_rate[0]['genres'][0])\n",
        "\n",
        "        index_to_rate = genres.index(genre_to_rate)\n",
        "        flag=True\n",
        "        while flag == True:\n",
        "          rating = int(input('Podaj ocenę: [0-10] '))#on the webpage rating will be implemented as 'stars choosing'\n",
        "          if rating in range(0, 11): #0-10\n",
        "            flag = False\n",
        "        if self.counters[index_to_rate] == 0:\n",
        "          self.weights_of_genres[index_to_rate] = rating*10\n",
        "        else:\n",
        "          self.weights_of_genres[index_to_rate] = ((self.counters[index_to_rate]-1) * self.weights_of_genres[index_to_rate] + (rating*10))/self.counters[index_to_rate]\n",
        "        self.counters[index_to_rate] += 1\n",
        "      except:\n",
        "        print(\"Movie without genre\")"
      ],
      "execution_count": null,
      "outputs": []
    },
    {
      "cell_type": "code",
      "metadata": {
        "id": "PjTPT0V7bq9w"
      },
      "source": [
        "user_Ratings = Movies_Ratings()"
      ],
      "execution_count": null,
      "outputs": []
    },
    {
      "cell_type": "code",
      "metadata": {
        "id": "B9tGr_fSJJCu"
      },
      "source": [
        "class Movie_Expert(KnowledgeEngine):\n",
        "  @Rule(Movies_Ratings())\n",
        "  def draw_movies(self):\n",
        "    #print(\"Wybrane gatunki filmów: \")\n",
        "    r = random.choices(genres, Movie.weights_of_genres, k=3)\n",
        "    #for elem in r:\n",
        "      #print(elem)\n",
        "    \n",
        "    print(\"\\tWybrane filmy: \")\n",
        "    for elem in r:\n",
        "      temp = []\n",
        "      for item in json_object:\n",
        "        try:\n",
        "          if item['genres'][0].lower() == elem:\n",
        "            temp.append(item)\n",
        "        except:\n",
        "          continue\n",
        "      flag = True\n",
        "      while(flag==True):\n",
        "        irand = random.randrange(0, len(temp))\n",
        "        if temp[irand] not in Movie.watched_movies:\n",
        "          flag = False\n",
        "          print(temp[irand]['title'])"
      ],
      "execution_count": null,
      "outputs": []
    },
    {
      "cell_type": "code",
      "metadata": {
        "colab": {
          "base_uri": "https://localhost:8080/"
        },
        "id": "nMlv3Ea7PlME",
        "outputId": "c20bd26e-76b2-473e-f80b-6f35dd01f0fe"
      },
      "source": [
        "#drawing 3 movies recommended for user\n",
        "engine = Movie_Expert()\n",
        "engine.reset()\n",
        "engine.declare(user_Ratings)\n",
        "engine.run()"
      ],
      "execution_count": null,
      "outputs": [
        {
          "output_type": "stream",
          "text": [
            "\tWybrane filmy: \n",
            "The Bone Collector\n",
            "5 Days of War\n",
            "The League of Extraordinary Gentlemen\n"
          ],
          "name": "stdout"
        }
      ]
    },
    {
      "cell_type": "code",
      "metadata": {
        "colab": {
          "base_uri": "https://localhost:8080/"
        },
        "id": "9n7ONal9Qfzm",
        "outputId": "dca1f810-130c-4350-e754-95e17cf94c46"
      },
      "source": [
        "#rating - weights changing\n",
        "#zmieniamy wagi ile chcemy\n",
        "\n",
        "film_to_rate = random.choices(json_object)#random movie. On the website, the user selects the movie he saw and its genre is determined.\n",
        "user_Ratings.watched_movies.append(film_to_rate)\n",
        "user_Ratings.rate_movie(film_to_rate)"
      ],
      "execution_count": null,
      "outputs": [
        {
          "output_type": "stream",
          "text": [
            "Oceń film: Fist of Fury\n",
            "Gatunek: Action\n",
            "Podaj ocenę: [0-10] 3\n"
          ],
          "name": "stdout"
        }
      ]
    },
    {
      "cell_type": "code",
      "metadata": {
        "colab": {
          "base_uri": "https://localhost:8080/"
        },
        "id": "o35LkhCZSGTt",
        "outputId": "58e908a5-2936-4da2-c661-5cca96f76e05"
      },
      "source": [
        "user_Ratings.print_weights()"
      ],
      "execution_count": null,
      "outputs": [
        {
          "output_type": "stream",
          "text": [
            "[30, 50, 50, 50, 50, 50, 50, 50, 50, 50, 50, 50, 50, 50, 50, 50, 50, 50, 50]\n"
          ],
          "name": "stdout"
        }
      ]
    },
    {
      "cell_type": "code",
      "metadata": {
        "colab": {
          "base_uri": "https://localhost:8080/"
        },
        "id": "G5tY5nwtSfBW",
        "outputId": "5dc2153f-fb7e-4fef-a4a6-10123bcb97e0"
      },
      "source": [
        "user_Ratings.print_counters()"
      ],
      "execution_count": null,
      "outputs": [
        {
          "output_type": "stream",
          "text": [
            "[1, 0, 0, 0, 0, 0, 0, 0, 0, 0, 0, 0, 0, 0, 0, 0, 0, 0, 0]\n"
          ],
          "name": "stdout"
        }
      ]
    },
    {
      "cell_type": "code",
      "metadata": {
        "colab": {
          "base_uri": "https://localhost:8080/"
        },
        "id": "z0Fczs4Eh1ud",
        "outputId": "232accbf-67ec-4b69-afab-152afa25f61f"
      },
      "source": [
        "user_Ratings.watched_movies"
      ],
      "execution_count": null,
      "outputs": [
        {
          "output_type": "execute_result",
          "data": {
            "text/plain": [
              "[[{'genres': ['Action'],\n",
              "   'id': '11713',\n",
              "   'overview': \"Chen Zhen returns to the international compound of China only to learn of his beloved teacher's death. This is compounded by the continual racist harassment by the Japanese population in the area. Unlike his friends, he confronts it head on with his mastery of martial arts while investigating his teacher's murder.\",\n",
              "   'poster': 'https://image.tmdb.org/t/p/w500/dlcipCOa9hlfBBz7kCAyjsf3q0E.jpg',\n",
              "   'release_date': 70070400,\n",
              "   'title': 'Fist of Fury'}]]"
            ]
          },
          "metadata": {
            "tags": []
          },
          "execution_count": 162
        }
      ]
    },
    {
      "cell_type": "code",
      "metadata": {
        "id": "QLS8jlX6eLBB"
      },
      "source": [
        "#destroing an object\n",
        "del user_Ratings"
      ],
      "execution_count": null,
      "outputs": []
    }
  ]
}